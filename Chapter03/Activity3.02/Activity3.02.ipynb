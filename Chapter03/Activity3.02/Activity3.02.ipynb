{
 "cells": [
  {
   "cell_type": "code",
   "execution_count": 1,
   "metadata": {},
   "outputs": [],
   "source": [
    "#steps required from exercise3.04\n",
    "import pandas as pd\n",
    "file_url = 'https://raw.githubusercontent.com/PacktWorkshops/The-Applied-Artificial-Intelligence-Workshop/master/Datasets/german_prepared.csv'\n",
    "df = pd.read_csv(file_url)\n",
    "from sklearn import preprocessing\n",
    "scaler = preprocessing.MinMaxScaler(feature_range=(0,1))\n",
    "scaled_credit = scaler.fit_transform(df)\n",
    "label = scaled_credit[:, 0]\n",
    "features = scaled_credit[:, 1:]\n",
    "from sklearn.model_selection import train_test_split\n",
    "features_train, features_test, label_train, label_test = train_test_split(features, label, test_size=0.2, random_state=7)"
   ]
  },
  {
   "cell_type": "code",
   "execution_count": 2,
   "metadata": {},
   "outputs": [],
   "source": [
    "from sklearn import svm"
   ]
  },
  {
   "cell_type": "code",
   "execution_count": 3,
   "metadata": {},
   "outputs": [],
   "source": [
    "def fit_svm(features_train, label_train, features_test, label_test, kernel=\"linear\", C=1, degree=3, gamma='scale'):\n",
    "    classifier = svm.SVC(kernel=kernel, C=C, degree=degree, gamma=gamma)\n",
    "    classifier.fit(features_train, label_train)\n",
    "    print(classifier.score(features_train, label_train))\n",
    "    print(classifier.score(features_test, label_test))"
   ]
  },
  {
   "cell_type": "code",
   "execution_count": 4,
   "metadata": {
    "scrolled": true
   },
   "outputs": [
    {
     "name": "stdout",
     "output_type": "stream",
     "text": [
      "0.72\n",
      "0.765\n"
     ]
    }
   ],
   "source": [
    "fit_svm(features_train, label_train, features_test, label_test)"
   ]
  },
  {
   "cell_type": "code",
   "execution_count": 5,
   "metadata": {
    "scrolled": true
   },
   "outputs": [
    {
     "name": "stdout",
     "output_type": "stream",
     "text": [
      "0.68875\n",
      "0.745\n"
     ]
    }
   ],
   "source": [
    "kernel=\"poly\"\n",
    "C=1\n",
    "degree=4\n",
    "gamma=0.05\n",
    "fit_svm(features_train, label_train, features_test, label_test, kernel=kernel, C=C, degree=degree, gamma=gamma)"
   ]
  },
  {
   "cell_type": "code",
   "execution_count": 6,
   "metadata": {},
   "outputs": [
    {
     "name": "stdout",
     "output_type": "stream",
     "text": [
      "0.68875\n",
      "0.745\n"
     ]
    }
   ],
   "source": [
    "kernel=\"poly\"\n",
    "C=2\n",
    "degree=4\n",
    "gamma=0.05\n",
    "fit_svm(features_train, label_train, features_test, label_test, kernel=kernel, C=C, degree=degree, gamma=gamma)"
   ]
  },
  {
   "cell_type": "code",
   "execution_count": 7,
   "metadata": {},
   "outputs": [
    {
     "name": "stdout",
     "output_type": "stream",
     "text": [
      "0.87\n",
      "0.77\n"
     ]
    }
   ],
   "source": [
    "kernel=\"poly\"\n",
    "C=1\n",
    "degree=4\n",
    "gamma=0.25\n",
    "fit_svm(features_train, label_train, features_test, label_test, kernel=kernel, C=C, degree=degree, gamma=gamma)"
   ]
  },
  {
   "cell_type": "code",
   "execution_count": 8,
   "metadata": {},
   "outputs": [
    {
     "name": "stdout",
     "output_type": "stream",
     "text": [
      "0.985\n",
      "0.67\n"
     ]
    }
   ],
   "source": [
    "kernel=\"poly\"\n",
    "C=1\n",
    "degree=4\n",
    "gamma=0.5\n",
    "fit_svm(features_train, label_train, features_test, label_test, kernel=kernel, C=C, degree=degree, gamma=gamma)"
   ]
  },
  {
   "cell_type": "code",
   "execution_count": 9,
   "metadata": {},
   "outputs": [
    {
     "name": "stdout",
     "output_type": "stream",
     "text": [
      "0.78125\n",
      "0.79\n"
     ]
    }
   ],
   "source": [
    "kernel=\"poly\"\n",
    "C=1\n",
    "degree=4\n",
    "gamma=0.16\n",
    "fit_svm(features_train, label_train, features_test, label_test, kernel=kernel, C=C, degree=degree, gamma=gamma)"
   ]
  },
  {
   "cell_type": "code",
   "execution_count": 10,
   "metadata": {},
   "outputs": [
    {
     "name": "stdout",
     "output_type": "stream",
     "text": [
      "0.635\n",
      "0.685\n"
     ]
    }
   ],
   "source": [
    "kernel=\"sigmoid\"\n",
    "fit_svm(features_train, label_train, features_test, label_test, kernel=kernel)"
   ]
  },
  {
   "cell_type": "code",
   "execution_count": 11,
   "metadata": {},
   "outputs": [
    {
     "name": "stdout",
     "output_type": "stream",
     "text": [
      "0.73625\n",
      "0.77\n"
     ]
    }
   ],
   "source": [
    "kernel=\"rbf\"\n",
    "gamma=0.15\n",
    "fit_svm(features_train, label_train, features_test, label_test, kernel=kernel, gamma=gamma)"
   ]
  },
  {
   "cell_type": "code",
   "execution_count": 12,
   "metadata": {
    "scrolled": true
   },
   "outputs": [
    {
     "name": "stdout",
     "output_type": "stream",
     "text": [
      "0.765\n",
      "0.795\n"
     ]
    }
   ],
   "source": [
    "kernel=\"rbf\"\n",
    "gamma=0.25\n",
    "fit_svm(features_train, label_train, features_test, label_test, kernel=kernel, gamma=gamma)"
   ]
  },
  {
   "cell_type": "code",
   "execution_count": 13,
   "metadata": {},
   "outputs": [
    {
     "name": "stdout",
     "output_type": "stream",
     "text": [
      "0.80125\n",
      "0.795\n"
     ]
    }
   ],
   "source": [
    "kernel=\"rbf\"\n",
    "gamma=0.35\n",
    "fit_svm(features_train, label_train, features_test, label_test, kernel=kernel, gamma=gamma)"
   ]
  }
 ],
 "metadata": {
  "kernelspec": {
   "display_name": "Python 3",
   "language": "python",
   "name": "python3"
  },
  "language_info": {
   "codemirror_mode": {
    "name": "ipython",
    "version": 3
   },
   "file_extension": ".py",
   "mimetype": "text/x-python",
   "name": "python",
   "nbconvert_exporter": "python",
   "pygments_lexer": "ipython3",
   "version": "3.7.5"
  }
 },
 "nbformat": 4,
 "nbformat_minor": 4
}
