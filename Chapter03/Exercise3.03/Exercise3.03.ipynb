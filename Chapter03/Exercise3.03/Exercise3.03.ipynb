{
 "cells": [
  {
   "cell_type": "code",
   "execution_count": 1,
   "metadata": {},
   "outputs": [],
   "source": [
    "employees = [\n",
    "    [20, 50000, 0],\n",
    "    [24, 45000, 0],\n",
    "    [32, 48000, 0],\n",
    "    [24, 55000, 0],\n",
    "    [40, 50000, 0],\n",
    "    [40, 62000, 1],\n",
    "    [40, 48000, 1],\n",
    "    [32, 55000, 1],\n",
    "    [40, 72000, 1],\n",
    "    [32, 60000, 1]\n",
    "]\n"
   ]
  },
  {
   "cell_type": "code",
   "execution_count": 2,
   "metadata": {},
   "outputs": [],
   "source": [
    "import pandas as pd"
   ]
  },
  {
   "cell_type": "code",
   "execution_count": 5,
   "metadata": {},
   "outputs": [],
   "source": [
    "pd.DataFrame(employees, columns=['hours_worked', 'salary', 'over_two_years']).to_csv('employees_churned.csv', index=False)"
   ]
  }
 ],
 "metadata": {
  "kernelspec": {
   "display_name": "Python 3",
   "language": "python",
   "name": "python3"
  },
  "language_info": {
   "codemirror_mode": {
    "name": "ipython",
    "version": 3
   },
   "file_extension": ".py",
   "mimetype": "text/x-python",
   "name": "python",
   "nbconvert_exporter": "python",
   "pygments_lexer": "ipython3",
   "version": "3.7.5"
  }
 },
 "nbformat": 4,
 "nbformat_minor": 4
}
