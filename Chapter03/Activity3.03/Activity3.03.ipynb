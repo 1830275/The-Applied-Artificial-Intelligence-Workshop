{
 "cells": [
  {
   "cell_type": "code",
   "execution_count": 1,
   "metadata": {},
   "outputs": [],
   "source": [
    "from numpy import loadtxt\n",
    "from urllib.request import urlopen"
   ]
  },
  {
   "cell_type": "code",
   "execution_count": 2,
   "metadata": {},
   "outputs": [],
   "source": [
    "file_url = 'https://raw.githubusercontent.com/PacktWorkshops/The-Applied-Artificial-Intelligence-Workshop/master/Chapter03/features_train.out'\n",
    "features_train = loadtxt(urlopen(file_url), delimiter=\",\")"
   ]
  },
  {
   "cell_type": "code",
   "execution_count": 3,
   "metadata": {},
   "outputs": [],
   "source": [
    "file_url = 'https://raw.githubusercontent.com/PacktWorkshops/The-Applied-Artificial-Intelligence-Workshop/master/Chapter03/features_test.out'\n",
    "features_test = loadtxt(urlopen(file_url), delimiter=\",\")"
   ]
  },
  {
   "cell_type": "code",
   "execution_count": 4,
   "metadata": {},
   "outputs": [],
   "source": [
    "file_url = 'https://raw.githubusercontent.com/PacktWorkshops/The-Applied-Artificial-Intelligence-Workshop/master/Chapter03/label_train.out'\n",
    "label_train = loadtxt(urlopen(file_url), delimiter=\",\")"
   ]
  },
  {
   "cell_type": "code",
   "execution_count": 5,
   "metadata": {},
   "outputs": [],
   "source": [
    "file_url = 'https://raw.githubusercontent.com/PacktWorkshops/The-Applied-Artificial-Intelligence-Workshop/master/Chapter03/label_test.out'\n",
    "label_test = loadtxt(urlopen(file_url), delimiter=\",\")"
   ]
  },
  {
   "cell_type": "code",
   "execution_count": 6,
   "metadata": {},
   "outputs": [],
   "source": [
    "from sklearn import svm"
   ]
  },
  {
   "cell_type": "code",
   "execution_count": 29,
   "metadata": {},
   "outputs": [],
   "source": [
    "def fit_svm(features_train, label_train, features_test, label_test, kernel=\"linear\", C=1, degree=3, gamma='scale'):\n",
    "    classifier = svm.SVC(kernel=kernel, C=C, degree=degree, gamma=gamma)\n",
    "    classifier.fit(features_train, label_train)\n",
    "    print(classifier.score(features_train, label_train))\n",
    "    print(classifier.score(features_test, label_test))"
   ]
  },
  {
   "cell_type": "code",
   "execution_count": 30,
   "metadata": {
    "scrolled": true
   },
   "outputs": [
    {
     "name": "stdout",
     "output_type": "stream",
     "text": [
      "0.72\n",
      "0.765\n"
     ]
    }
   ],
   "source": [
    "fit_svm(features_train, label_train, features_test, label_test)"
   ]
  },
  {
   "cell_type": "code",
   "execution_count": 55,
   "metadata": {
    "scrolled": true
   },
   "outputs": [
    {
     "name": "stdout",
     "output_type": "stream",
     "text": [
      "0.68875\n",
      "0.745\n"
     ]
    }
   ],
   "source": [
    "kernel=\"poly\"\n",
    "C=1\n",
    "degree=4\n",
    "gamma=0.05\n",
    "fit_svm(features_train, label_train, features_test, label_test, kernel=kernel, C=C, degree=degree, gamma=gamma)"
   ]
  },
  {
   "cell_type": "code",
   "execution_count": 74,
   "metadata": {},
   "outputs": [
    {
     "name": "stdout",
     "output_type": "stream",
     "text": [
      "0.68875\n",
      "0.745\n"
     ]
    }
   ],
   "source": [
    "kernel=\"poly\"\n",
    "C=2\n",
    "degree=4\n",
    "gamma=0.05\n",
    "fit_svm(features_train, label_train, features_test, label_test, kernel=kernel, C=C, degree=degree, gamma=gamma)"
   ]
  },
  {
   "cell_type": "code",
   "execution_count": 61,
   "metadata": {},
   "outputs": [
    {
     "name": "stdout",
     "output_type": "stream",
     "text": [
      "0.87\n",
      "0.77\n"
     ]
    }
   ],
   "source": [
    "kernel=\"poly\"\n",
    "C=1\n",
    "degree=4\n",
    "gamma=0.25\n",
    "fit_svm(features_train, label_train, features_test, label_test, kernel=kernel, C=C, degree=degree, gamma=gamma)"
   ]
  },
  {
   "cell_type": "code",
   "execution_count": 62,
   "metadata": {},
   "outputs": [
    {
     "name": "stdout",
     "output_type": "stream",
     "text": [
      "0.985\n",
      "0.67\n"
     ]
    }
   ],
   "source": [
    "kernel=\"poly\"\n",
    "C=1\n",
    "degree=4\n",
    "gamma=0.5\n",
    "fit_svm(features_train, label_train, features_test, label_test, kernel=kernel, C=C, degree=degree, gamma=gamma)"
   ]
  },
  {
   "cell_type": "code",
   "execution_count": 73,
   "metadata": {},
   "outputs": [
    {
     "name": "stdout",
     "output_type": "stream",
     "text": [
      "0.78125\n",
      "0.79\n"
     ]
    }
   ],
   "source": [
    "kernel=\"poly\"\n",
    "C=1\n",
    "degree=4\n",
    "gamma=0.16\n",
    "fit_svm(features_train, label_train, features_test, label_test, kernel=kernel, C=C, degree=degree, gamma=gamma)"
   ]
  },
  {
   "cell_type": "code",
   "execution_count": 63,
   "metadata": {},
   "outputs": [
    {
     "name": "stdout",
     "output_type": "stream",
     "text": [
      "0.635\n",
      "0.685\n"
     ]
    }
   ],
   "source": [
    "kernel=\"sigmoid\"\n",
    "fit_svm(features_train, label_train, features_test, label_test, kernel=kernel)"
   ]
  },
  {
   "cell_type": "code",
   "execution_count": 64,
   "metadata": {},
   "outputs": [
    {
     "name": "stdout",
     "output_type": "stream",
     "text": [
      "0.73625\n",
      "0.77\n"
     ]
    }
   ],
   "source": [
    "kernel=\"rbf\"\n",
    "gamma=0.15\n",
    "fit_svm(features_train, label_train, features_test, label_test, kernel=kernel, gamma=gamma)"
   ]
  },
  {
   "cell_type": "code",
   "execution_count": 65,
   "metadata": {
    "scrolled": true
   },
   "outputs": [
    {
     "name": "stdout",
     "output_type": "stream",
     "text": [
      "0.765\n",
      "0.795\n"
     ]
    }
   ],
   "source": [
    "kernel=\"rbf\"\n",
    "gamma=0.25\n",
    "fit_svm(features_train, label_train, features_test, label_test, kernel=kernel, gamma=gamma)"
   ]
  },
  {
   "cell_type": "code",
   "execution_count": 70,
   "metadata": {},
   "outputs": [
    {
     "name": "stdout",
     "output_type": "stream",
     "text": [
      "0.80125\n",
      "0.795\n"
     ]
    }
   ],
   "source": [
    "kernel=\"rbf\"\n",
    "gamma=0.35\n",
    "fit_svm(features_train, label_train, features_test, label_test, kernel=kernel, gamma=gamma)"
   ]
  }
 ],
 "metadata": {
  "kernelspec": {
   "display_name": "Python 3",
   "language": "python",
   "name": "python3"
  },
  "language_info": {
   "codemirror_mode": {
    "name": "ipython",
    "version": 3
   },
   "file_extension": ".py",
   "mimetype": "text/x-python",
   "name": "python",
   "nbconvert_exporter": "python",
   "pygments_lexer": "ipython3",
   "version": "3.7.5"
  }
 },
 "nbformat": 4,
 "nbformat_minor": 4
}
