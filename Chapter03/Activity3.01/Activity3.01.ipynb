{
 "cells": [
  {
   "cell_type": "code",
   "execution_count": 1,
   "metadata": {},
   "outputs": [],
   "source": [
    "#steps required from exercise3.04\n",
    "import pandas as pd\n",
    "file_url = 'https://raw.githubusercontent.com/PacktWorkshops/The-Applied-Artificial-Intelligence-Workshop/master/Datasets/german_prepared.csv'\n",
    "df = pd.read_csv(file_url)\n",
    "from sklearn import preprocessing\n",
    "scaler = preprocessing.MinMaxScaler(feature_range=(0,1))\n",
    "scaled_credit = scaler.fit_transform(df)\n",
    "label = scaled_credit[:, 0]\n",
    "features = scaled_credit[:, 1:]\n",
    "from sklearn.model_selection import train_test_split\n",
    "features_train, features_test, label_train, label_test = train_test_split(features, label, test_size=0.2, random_state=7)"
   ]
  },
  {
   "cell_type": "code",
   "execution_count": 2,
   "metadata": {},
   "outputs": [],
   "source": [
    "from sklearn import neighbors"
   ]
  },
  {
   "cell_type": "code",
   "execution_count": 3,
   "metadata": {},
   "outputs": [],
   "source": [
    "def fit_knn(k, p, features_train, label_train, features_test, label_test):\n",
    "    classifier = neighbors.KNeighborsClassifier(n_neighbors=k, p=p)\n",
    "    classifier.fit(features_train, label_train)\n",
    "    print(classifier.score(features_train, label_train))\n",
    "    print(classifier.score(features_test, label_test))"
   ]
  },
  {
   "cell_type": "code",
   "execution_count": 4,
   "metadata": {},
   "outputs": [
    {
     "name": "stdout",
     "output_type": "stream",
     "text": [
      "0.795\n",
      "0.76\n"
     ]
    }
   ],
   "source": [
    "fit_knn(5, 2, features_train, label_train, features_test, label_test)"
   ]
  },
  {
   "cell_type": "code",
   "execution_count": 5,
   "metadata": {},
   "outputs": [
    {
     "name": "stdout",
     "output_type": "stream",
     "text": [
      "0.75625\n",
      "0.775\n"
     ]
    }
   ],
   "source": [
    "fit_knn(10, 2, features_train, label_train, features_test, label_test)"
   ]
  },
  {
   "cell_type": "code",
   "execution_count": 6,
   "metadata": {},
   "outputs": [
    {
     "name": "stdout",
     "output_type": "stream",
     "text": [
      "0.7475\n",
      "0.78\n"
     ]
    }
   ],
   "source": [
    "fit_knn(15, 2, features_train, label_train, features_test, label_test)"
   ]
  },
  {
   "cell_type": "code",
   "execution_count": 7,
   "metadata": {},
   "outputs": [
    {
     "name": "stdout",
     "output_type": "stream",
     "text": [
      "0.7225\n",
      "0.79\n"
     ]
    }
   ],
   "source": [
    "fit_knn(25, 2, features_train, label_train, features_test, label_test)"
   ]
  },
  {
   "cell_type": "code",
   "execution_count": 8,
   "metadata": {},
   "outputs": [
    {
     "name": "stdout",
     "output_type": "stream",
     "text": [
      "0.7125\n",
      "0.755\n"
     ]
    }
   ],
   "source": [
    "fit_knn(50, 2, features_train, label_train, features_test, label_test)"
   ]
  },
  {
   "cell_type": "code",
   "execution_count": 9,
   "metadata": {},
   "outputs": [
    {
     "name": "stdout",
     "output_type": "stream",
     "text": [
      "0.8\n",
      "0.76\n"
     ]
    }
   ],
   "source": [
    "fit_knn(5, 1, features_train, label_train, features_test, label_test)"
   ]
  },
  {
   "cell_type": "code",
   "execution_count": 10,
   "metadata": {},
   "outputs": [
    {
     "name": "stdout",
     "output_type": "stream",
     "text": [
      "0.7575\n",
      "0.765\n"
     ]
    }
   ],
   "source": [
    "fit_knn(10, 1, features_train, label_train, features_test, label_test)"
   ]
  },
  {
   "cell_type": "code",
   "execution_count": 11,
   "metadata": {},
   "outputs": [
    {
     "name": "stdout",
     "output_type": "stream",
     "text": [
      "0.75875\n",
      "0.765\n"
     ]
    }
   ],
   "source": [
    "fit_knn(15, 1, features_train, label_train, features_test, label_test)"
   ]
  },
  {
   "cell_type": "code",
   "execution_count": 12,
   "metadata": {},
   "outputs": [
    {
     "name": "stdout",
     "output_type": "stream",
     "text": [
      "0.75\n",
      "0.795\n"
     ]
    }
   ],
   "source": [
    "fit_knn(25, 1, features_train, label_train, features_test, label_test)"
   ]
  },
  {
   "cell_type": "code",
   "execution_count": 13,
   "metadata": {},
   "outputs": [
    {
     "name": "stdout",
     "output_type": "stream",
     "text": [
      "0.71875\n",
      "0.77\n"
     ]
    }
   ],
   "source": [
    "fit_knn(50, 1, features_train, label_train, features_test, label_test)"
   ]
  }
 ],
 "metadata": {
  "kernelspec": {
   "display_name": "Python 3",
   "language": "python",
   "name": "python3"
  },
  "language_info": {
   "codemirror_mode": {
    "name": "ipython",
    "version": 3
   },
   "file_extension": ".py",
   "mimetype": "text/x-python",
   "name": "python",
   "nbconvert_exporter": "python",
   "pygments_lexer": "ipython3",
   "version": "3.7.5"
  }
 },
 "nbformat": 4,
 "nbformat_minor": 4
}
