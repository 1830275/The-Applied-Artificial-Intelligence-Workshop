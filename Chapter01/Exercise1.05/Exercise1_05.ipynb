{
  "nbformat": 4,
  "nbformat_minor": 0,
  "metadata": {
    "kernelspec": {
      "display_name": "Python 3",
      "language": "python",
      "name": "python3"
    },
    "language_info": {
      "codemirror_mode": {
        "name": "ipython",
        "version": 3
      },
      "file_extension": ".py",
      "mimetype": "text/x-python",
      "name": "python",
      "nbconvert_exporter": "python",
      "pygments_lexer": "ipython3",
      "version": "3.7.6"
    },
    "colab": {
      "name": "Exercise 1.05 Finding the Shortest Path Using BFS.ipynb",
      "provenance": [],
      "collapsed_sections": []
    }
  },
  "cells": [
    {
      "cell_type": "code",
      "metadata": {
        "id": "xvkyi-m4JrrS",
        "colab_type": "code",
        "colab": {}
      },
      "source": [
        "import math\n",
        "\n",
        "size = (7, 9)\n",
        "start = (5, 3)\n",
        "end = (6, 9)\n",
        "obstacles = {\n",
        "    (3, 4), (3, 5), (3, 6), (3, 7), (3, 8),\n",
        "    (4, 5),\n",
        "    (5, 5), (5, 7), (5, 9),\n",
        "    (6, 2), (6, 3), (6, 4), (6, 5), (6, 7),\n",
        "    (7, 7)\n",
        "}\n",
        "\n",
        "def successors(state, visited_nodes):\n",
        "    (row, col) = state\n",
        "    (max_row, max_col) = size\n",
        "    succ_states = []\n",
        "    if row > 1:\n",
        "        succ_states += [(row-1, col)]\n",
        "    if col > 1:\n",
        "        succ_states += [(row, col-1)]\n",
        "    if row < max_row:\n",
        "        succ_states += [(row+1, col)]\n",
        "    if col < max_col:\n",
        "        succ_states += [(row, col+1)]\n",
        "    return [s for s in succ_states if s not in visited_nodes if s not in obstacles]\n",
        "\n",
        "def initialize_costs(size, start):\n",
        "    (h, w) = size\n",
        "    costs = [[math.inf] * w for i in range(h)]\n",
        "    (x, y) = start\n",
        "    costs[x-1][y-1] = 0\n",
        "    return costs\n",
        "\n",
        "def update_costs(costs, current_node, successor_nodes):\n",
        "    new_cost = costs[current_node[0]-1][current_node[1]-1] + 1\n",
        "    for (x, y) in successor_nodes:\n",
        "        costs[x-1][y-1] = min(costs[x-1][y-1], new_cost)\n",
        "\n",
        "def bfs_tree(node):\n",
        "    nodes_to_visit = [node]\n",
        "    visited_nodes = []\n",
        "    costs = initialize_costs(size, start)\n",
        "    while len(nodes_to_visit) > 0:\n",
        "        current_node = nodes_to_visit.pop(0)\n",
        "        visited_nodes.append(current_node)\n",
        "        successor_nodes = successors(current_node, visited_nodes)\n",
        "        update_costs(costs, current_node, successor_nodes)\n",
        "        nodes_to_visit.extend(successor_nodes)\n",
        "    return costs"
      ],
      "execution_count": 0,
      "outputs": []
    },
    {
      "cell_type": "code",
      "metadata": {
        "id": "pV7EU-TIJrrY",
        "colab_type": "code",
        "colab": {
          "base_uri": "https://localhost:8080/",
          "height": 136
        },
        "outputId": "9d3207f4-26b5-447d-8263-14918e31a3ca"
      },
      "source": [
        "bfs = bfs_tree(start)\n",
        "bfs"
      ],
      "execution_count": 6,
      "outputs": [
        {
          "output_type": "execute_result",
          "data": {
            "text/plain": [
              "[[6, 5, 4, 5, 6, 7, 8, 9, 10],\n",
              " [5, 4, 3, 4, 5, 6, 7, 8, 9],\n",
              " [4, 3, 2, inf, inf, inf, inf, inf, 10],\n",
              " [3, 2, 1, 2, inf, 12, 13, 12, 11],\n",
              " [2, 1, 0, 1, inf, 11, inf, 13, inf],\n",
              " [3, inf, inf, inf, inf, 10, inf, 14, 15],\n",
              " [4, 5, 6, 7, 8, 9, inf, 15, 16]]"
            ]
          },
          "metadata": {
            "tags": []
          },
          "execution_count": 6
        }
      ]
    },
    {
      "cell_type": "code",
      "metadata": {
        "id": "SFE4pvCrJrrc",
        "colab_type": "code",
        "colab": {}
      },
      "source": [
        "def bfs_tree_verbose(node):\n",
        "    nodes_to_visit = [node]\n",
        "    visited_nodes = []\n",
        "    costs = initialize_costs(size, start)\n",
        "    step_counter = 0\n",
        "    while len(nodes_to_visit) > 0:\n",
        "        step_counter += 1\n",
        "        current_node = nodes_to_visit.pop(0)\n",
        "        visited_nodes.append(current_node)\n",
        "        successor_nodes = successors(current_node, visited_nodes)\n",
        "        update_costs(costs, current_node, successor_nodes)\n",
        "        nodes_to_visit.extend(successor_nodes)\n",
        "        if current_node == end:\n",
        "            print('End node has been reached in ', step_counter, ' steps')\n",
        "            return costs\n",
        "    return costs"
      ],
      "execution_count": 0,
      "outputs": []
    },
    {
      "cell_type": "code",
      "metadata": {
        "id": "axm176T0Jrrf",
        "colab_type": "code",
        "colab": {
          "base_uri": "https://localhost:8080/",
          "height": 153
        },
        "outputId": "884dba3f-db0c-4d55-ce09-28cc1a80e821"
      },
      "source": [
        "bfs_v = bfs_tree_verbose(start)\n",
        "bfs_v"
      ],
      "execution_count": 8,
      "outputs": [
        {
          "output_type": "stream",
          "text": [
            "End node has been reached in  110  steps\n"
          ],
          "name": "stdout"
        },
        {
          "output_type": "execute_result",
          "data": {
            "text/plain": [
              "[[6, 5, 4, 5, 6, 7, 8, 9, 10],\n",
              " [5, 4, 3, 4, 5, 6, 7, 8, 9],\n",
              " [4, 3, 2, inf, inf, inf, inf, inf, 10],\n",
              " [3, 2, 1, 2, inf, 12, 13, 12, 11],\n",
              " [2, 1, 0, 1, inf, 11, inf, 13, inf],\n",
              " [3, inf, inf, inf, inf, 10, inf, 14, 15],\n",
              " [4, 5, 6, 7, 8, 9, inf, 15, 16]]"
            ]
          },
          "metadata": {
            "tags": []
          },
          "execution_count": 8
        }
      ]
    }
  ]
}