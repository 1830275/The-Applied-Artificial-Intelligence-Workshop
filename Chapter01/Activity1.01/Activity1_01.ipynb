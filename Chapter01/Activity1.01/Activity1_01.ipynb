{
  "nbformat": 4,
  "nbformat_minor": 0,
  "metadata": {
    "kernelspec": {
      "display_name": "Python 3",
      "language": "python",
      "name": "python3"
    },
    "language_info": {
      "codemirror_mode": {
        "name": "ipython",
        "version": 3
      },
      "file_extension": ".py",
      "mimetype": "text/x-python",
      "name": "python",
      "nbconvert_exporter": "python",
      "pygments_lexer": "ipython3",
      "version": "3.7.6"
    },
    "colab": {
      "name": "Activity 1.01 Generating All Possible Sequences of Steps in a Tic-Tac-Toe Game.ipynb",
      "provenance": [],
      "collapsed_sections": []
    }
  },
  "cells": [
    {
      "cell_type": "code",
      "metadata": {
        "id": "rKvg23hHzsLa",
        "colab_type": "code",
        "colab": {}
      },
      "source": [
        "combo_indices = [\n",
        "    [0, 1, 2],\n",
        "    [3, 4, 5],\n",
        "    [6, 7, 8],\n",
        "    [0, 3, 6],\n",
        "    [1, 4, 7],\n",
        "    [2, 5, 8],\n",
        "    [0, 4, 8],\n",
        "    [2, 4, 6]\n",
        "]\n",
        "\n",
        "EMPTY_SIGN = '.'\n",
        "AI_SIGN = 'X'\n",
        "OPPONENT_SIGN = 'O'\n",
        "\n",
        "def print_board(board):\n",
        "    print(\" \")\n",
        "    print(' '.join(board[:3]))\n",
        "    print(' '.join(board[3:6]))\n",
        "    print(' '.join(board[6:]))\n",
        "    print(\" \")\n",
        "    \n",
        "def opponent_move(board, row, column):\n",
        "    index = 3 * (row - 1) + (column - 1)\n",
        "    if board[index] == EMPTY_SIGN:\n",
        "        return board[:index] + OPPONENT_SIGN + board[index+1:]\n",
        "    return board    \n",
        "\n",
        "def all_moves_from_board(board, sign):\n",
        "    move_list = []\n",
        "    for i, v in enumerate(board):\n",
        "        if v == EMPTY_SIGN:\n",
        "            move_list.append(board[:i] + sign + board[i+1:])\n",
        "    return move_list\n",
        " \n",
        "def ai_move(board):\n",
        "    return choice(all_moves_from_board(board, AI_SIGN))\n",
        "\n",
        "def game_won_by(board):\n",
        "    for index in combo_indices:\n",
        "        if board[index[0]] == board[index[1]] == board[index[2]] != EMPTY_SIGN:\n",
        "            return board[index[0]]\n",
        "    return EMPTY_SIGN\n",
        "\n",
        "def game_loop():\n",
        "    board = EMPTY_SIGN * 9\n",
        "    empty_cell_count = 9\n",
        "    is_game_ended = False\n",
        "    while empty_cell_count > 0 and not is_game_ended:\n",
        "        if empty_cell_count % 2 == 1:\n",
        "            board = ai_move(board)\n",
        "        else:\n",
        "            row = int(input('Enter row: '))\n",
        "            col = int(input('Enter column: '))\n",
        "            board = opponent_move(board,\t row, col)\n",
        "        print_board(board)\n",
        "        is_game_ended = game_won_by(board) != EMPTY_SIGN\n",
        "        empty_cell_count = sum(\n",
        "            1 for cell in board if cell == EMPTY_SIGN\n",
        "        ) \n",
        "    print('Game has been ended.')"
      ],
      "execution_count": 0,
      "outputs": []
    },
    {
      "cell_type": "code",
      "metadata": {
        "id": "VGMQOxLcCAa3",
        "colab_type": "code",
        "colab": {}
      },
      "source": [
        "def all_moves_from_board_list(board_list, sign):\n",
        "    move_list = []\n",
        "    for board in board_list:\n",
        "        move_list.extend(all_moves_from_board(board, sign))\n",
        "    return move_list\n"
      ],
      "execution_count": 0,
      "outputs": []
    },
    {
      "cell_type": "code",
      "metadata": {
        "id": "Ht-lYOwSzNTm",
        "colab_type": "code",
        "colab": {
          "base_uri": "https://localhost:8080/",
          "height": 170
        },
        "outputId": "002c338f-0f5c-4e4b-d93e-0a1d9dd8e627"
      },
      "source": [
        "board = EMPTY_SIGN * 9\n",
        "all_moves = all_moves_from_board(board, AI_SIGN )\n",
        "all_moves"
      ],
      "execution_count": 18,
      "outputs": [
        {
          "output_type": "execute_result",
          "data": {
            "text/plain": [
              "['X........',\n",
              " '.X.......',\n",
              " '..X......',\n",
              " '...X.....',\n",
              " '....X....',\n",
              " '.....X...',\n",
              " '......X..',\n",
              " '.......X.',\n",
              " '........X']"
            ]
          },
          "metadata": {
            "tags": []
          },
          "execution_count": 18
        }
      ]
    },
    {
      "cell_type": "code",
      "metadata": {
        "id": "D7IDvc1j0eeP",
        "colab_type": "code",
        "colab": {}
      },
      "source": [
        "def filter_wins(move_list, ai_wins, opponent_wins):\n",
        "    for board in move_list:\n",
        "        won_by = game_won_by(board)\n",
        "        if won_by == AI_SIGN:\n",
        "            ai_wins.append(board)\n",
        "            move_list.remove(board)\n",
        "        elif won_by == OPPONENT_SIGN:\n",
        "            opponent_wins.append(board)\n",
        "            move_list.remove(board)"
      ],
      "execution_count": 0,
      "outputs": []
    },
    {
      "cell_type": "code",
      "metadata": {
        "id": "MeTWtr-arW--",
        "colab_type": "code",
        "colab": {}
      },
      "source": [
        "def count_possibilities():\n",
        "    board = EMPTY_SIGN * 9\n",
        "    move_list = [board]\n",
        "    ai_wins = []\n",
        "    opponent_wins = []\n",
        "    for i in range(9):\n",
        "        print('step ' + str(i) + '. Moves: ' + str(len(move_list)))\n",
        "        sign = AI_SIGN if i % 2 == 0 else OPPONENT_SIGN\n",
        "        move_list = all_moves_from_board_list(move_list, sign)\n",
        "        filter_wins(move_list, ai_wins, opponent_wins)\n",
        "    print('First player wins: ' + str(len(ai_wins)))\n",
        "    print('Second player wins: ' + str(len(opponent_wins)))\n",
        "    print('Draw', str(len(move_list)))\n",
        "    print('Total', str(len(ai_wins) + len(opponent_wins) + len(move_list)))\n",
        "    return len(ai_wins), len(opponent_wins), len(move_list), len(ai_wins) + len(opponent_wins) + len(move_list)"
      ],
      "execution_count": 0,
      "outputs": []
    },
    {
      "cell_type": "code",
      "metadata": {
        "id": "Q5N631ZOwyWN",
        "colab_type": "code",
        "colab": {
          "base_uri": "https://localhost:8080/",
          "height": 238
        },
        "outputId": "b4edae8a-e0c3-42b7-f108-c4dedf681c77"
      },
      "source": [
        "first_player, second_player, draw, total = count_possibilities()"
      ],
      "execution_count": 21,
      "outputs": [
        {
          "output_type": "stream",
          "text": [
            "step 0. Moves: 1\n",
            "step 1. Moves: 9\n",
            "step 2. Moves: 72\n",
            "step 3. Moves: 504\n",
            "step 4. Moves: 3024\n",
            "step 5. Moves: 13680\n",
            "step 6. Moves: 49402\n",
            "step 7. Moves: 111109\n",
            "step 8. Moves: 156775\n",
            "First player wins: 106279\n",
            "Second player wins: 68644\n",
            "Draw 91150\n",
            "Total 266073\n"
          ],
          "name": "stdout"
        }
      ]
    }
  ]
}