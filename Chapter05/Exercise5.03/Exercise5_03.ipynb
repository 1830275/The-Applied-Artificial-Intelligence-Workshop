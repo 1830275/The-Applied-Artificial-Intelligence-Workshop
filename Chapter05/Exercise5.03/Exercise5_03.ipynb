{
 "cells": [
  {
   "cell_type": "code",
   "execution_count": null,
   "metadata": {},
   "outputs": [],
   "source": [
    "import numpy as np\n",
    "data_points = np.array([\n",
    "    [1, 1], \n",
    "    [1, 1.5],\n",
    "    [2, 2],\n",
    "    [8, 1],\n",
    "    [8, 0],\n",
    "    [8.5, 1],\n",
    "    [6, 1],\n",
    "    [1, 10],\n",
    "    [1.5, 10],\n",
    "    [1.5, 9.5],\n",
    "    [10, 10],\n",
    "    [1.5, 8.5]\n",
    "])\n",
    "P1 = [1, 1]"
   ]
  },
  {
   "cell_type": "code",
   "execution_count": null,
   "metadata": {},
   "outputs": [],
   "source": [
    "from scipy.spatial import distance\n",
    "r = 2\n",
    "points1 = np.array([\n",
    "    p0 for p0 in data_points if distance.euclidean(p0, P1) <= r \n",
    "])\n",
    "points1"
   ]
  },
  {
   "cell_type": "code",
   "execution_count": null,
   "metadata": {},
   "outputs": [],
   "source": [
    "P2 = [  \n",
    "    np.mean( points1.transpose()[0] ), \n",
    "    np.mean(points1.transpose()[1] ) \n",
    "]\n",
    "P2"
   ]
  },
  {
   "cell_type": "code",
   "execution_count": null,
   "metadata": {},
   "outputs": [],
   "source": [
    "points2 = np.array([\n",
    "    p0 for p0 in data_points if distance.euclidean( p0, P2) <= r \n",
    "])\n",
    "points2"
   ]
  },
  {
   "cell_type": "code",
   "execution_count": null,
   "metadata": {},
   "outputs": [],
   "source": [
    "P3 = [8, 1]\n",
    "points3 = np.array( [\n",
    "    p0 for p0 in data_points if distance.euclidean(p0, P3) <= r \n",
    "])\n",
    "points3"
   ]
  },
  {
   "cell_type": "code",
   "execution_count": null,
   "metadata": {},
   "outputs": [],
   "source": [
    "P4 = [  \n",
    "    np.mean(points3.transpose()[0]), \n",
    "    np.mean(points3.transpose()[1]) \n",
    "]\n",
    "P4"
   ]
  },
  {
   "cell_type": "code",
   "execution_count": null,
   "metadata": {},
   "outputs": [],
   "source": [
    "P5 = [8, 0]\n",
    "points4 = np.array([\n",
    "    p0 for p0 in data_points if distance.euclidean(p0, P5) <= r \n",
    "])\n",
    "points4"
   ]
  },
  {
   "cell_type": "code",
   "execution_count": null,
   "metadata": {},
   "outputs": [],
   "source": [
    "P6 = [  \n",
    "    np.mean(points4.transpose()[0]), \n",
    "    np.mean(points4.transpose()[1]) \n",
    "]\n",
    "P6"
   ]
  },
  {
   "cell_type": "code",
   "execution_count": null,
   "metadata": {},
   "outputs": [],
   "source": [
    "P7 = [8.5, 1]\n",
    "points5 = np.array([\n",
    "    p0 for p0 in data_points if distance.euclidean(p0, P7) <= r \n",
    "])\n",
    "points5"
   ]
  },
  {
   "cell_type": "code",
   "execution_count": null,
   "metadata": {},
   "outputs": [],
   "source": [
    "P8 = [6, 1]\n",
    "points6 = np.array([\n",
    "    p0 for p0 in data_points if distance.euclidean(p0, P8) <= r \n",
    "])\n",
    "points6"
   ]
  },
  {
   "cell_type": "code",
   "execution_count": null,
   "metadata": {},
   "outputs": [],
   "source": [
    "P9 = [  \n",
    "    np.mean(points6.transpose()[0]), \n",
    "    np.mean(points6.transpose()[1]) \n",
    "]\n",
    "P9"
   ]
  },
  {
   "cell_type": "code",
   "execution_count": null,
   "metadata": {},
   "outputs": [],
   "source": [
    "points7 = np.array([\n",
    "    p0 for p0 in data_points if distance.euclidean(p0, P9) <= r \n",
    "])\n",
    "points7"
   ]
  }
 ],
 "metadata": {
  "kernelspec": {
   "display_name": "Python 3",
   "language": "python",
   "name": "python3"
  },
  "language_info": {
   "codemirror_mode": {
    "name": "ipython",
    "version": 3
   },
   "file_extension": ".py",
   "mimetype": "text/x-python",
   "name": "python",
   "nbconvert_exporter": "python",
   "pygments_lexer": "ipython3",
   "version": "3.7.6"
  }
 },
 "nbformat": 4,
 "nbformat_minor": 4
}
