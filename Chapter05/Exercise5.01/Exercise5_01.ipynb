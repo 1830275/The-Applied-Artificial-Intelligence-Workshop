{
 "cells": [
  {
   "cell_type": "code",
   "execution_count": null,
   "metadata": {},
   "outputs": [],
   "source": [
    "import numpy as np\n",
    "data_points = np.array([\n",
    "    [1, 1], \n",
    "    [1, 1.5],\n",
    "    [2, 2],\n",
    "    [8, 1],\n",
    "    [8, 0],\n",
    "    [8.5, 1],\n",
    "    [6, 1],\n",
    "    [1, 10],\n",
    "    [1.5, 10],\n",
    "    [1.5, 9.5],\n",
    "    [10, 10],\n",
    "    [1.5, 8.5]\n",
    "])"
   ]
  },
  {
   "cell_type": "code",
   "execution_count": null,
   "metadata": {},
   "outputs": [],
   "source": [
    "import matplotlib.pyplot as plot\n",
    "plot.scatter(data_points.transpose()[0], data_points.transpose()[1])"
   ]
  },
  {
   "cell_type": "code",
   "execution_count": null,
   "metadata": {},
   "outputs": [],
   "source": [
    "from sklearn.cluster import KMeans\n",
    "k_means_model = KMeans(n_clusters=3,random_state=8)\n",
    "k_means_model.fit(data_points)"
   ]
  },
  {
   "cell_type": "code",
   "execution_count": null,
   "metadata": {},
   "outputs": [],
   "source": [
    "centers = k_means_model.cluster_centers_\n",
    "centers"
   ]
  },
  {
   "cell_type": "code",
   "execution_count": null,
   "metadata": {},
   "outputs": [],
   "source": [
    "labels = k_means_model.labels_\n",
    "labels"
   ]
  },
  {
   "cell_type": "code",
   "execution_count": null,
   "metadata": {},
   "outputs": [],
   "source": [
    "plot.scatter(\n",
    "    centers[:,0], \n",
    "    centers[:,1]\n",
    ")\n",
    "for i in range(len(data_points)): \n",
    "    plot.plot( \n",
    "        data_points[i][0], \n",
    "        data_points[i][1], \n",
    "        ['k+','kx','k_'][labels[i]]  \n",
    "    )\n",
    "\n",
    "plot.show()"
   ]
  },
  {
   "cell_type": "code",
   "execution_count": null,
   "metadata": {},
   "outputs": [],
   "source": [
    "k_means_model = KMeans(n_clusters=2,random_state=8)\n",
    "k_means_model.fit(data_points)\n",
    "centers2 = k_means_model.cluster_centers_\n",
    "labels2 = k_means_model.labels_\n",
    "plot.scatter(\n",
    "    centers2[:,0], \n",
    "    centers2[:,1]\n",
    ")\n",
    "for i in range(len(data_points)): \n",
    "    plot.plot( \n",
    "        data_points[i][0], \n",
    "        data_points[i][1], \n",
    "        ['k+','kx'][labels2[i]]  \n",
    "    )\n",
    "plot.show()"
   ]
  },
  {
   "cell_type": "code",
   "execution_count": null,
   "metadata": {},
   "outputs": [],
   "source": [
    "predictions = k_means_model.predict([[5,5],[0,10]])\n",
    "predictions"
   ]
  }
 ],
 "metadata": {
  "kernelspec": {
   "display_name": "Python 3",
   "language": "python",
   "name": "python3"
  },
  "language_info": {
   "codemirror_mode": {
    "name": "ipython",
    "version": 3
   },
   "file_extension": ".py",
   "mimetype": "text/x-python",
   "name": "python",
   "nbconvert_exporter": "python",
   "pygments_lexer": "ipython3",
   "version": "3.7.6"
  }
 },
 "nbformat": 4,
 "nbformat_minor": 4
}
