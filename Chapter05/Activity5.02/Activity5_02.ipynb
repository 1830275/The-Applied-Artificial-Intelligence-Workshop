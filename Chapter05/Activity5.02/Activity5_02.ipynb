{
 "cells": [
  {
   "cell_type": "code",
   "execution_count": null,
   "metadata": {},
   "outputs": [],
   "source": [
    "import pandas as pd\n",
    "import numpy as np\n",
    "from sklearn import preprocessing\n",
    "from sklearn.cluster import MeanShift\n",
    "from sklearn.cluster import AgglomerativeClustering\n",
    "from scipy.cluster.hierarchy import dendrogram\n",
    "import scipy.cluster.hierarchy as sch\n",
    "from sklearn import metrics\n",
    "file_url = 'https://raw.githubusercontent.com/PacktWorkshops/The-Applied-Artificial-Intelligence-Workshop/master/Datasets/winequality-red.csv'\n",
    "df = pd.read_csv(file_url,sep=';')\n",
    "features = df.drop('quality', 1)\n",
    "label = df['quality']\n",
    "scaled_features = preprocessing.scale(features)"
   ]
  },
  {
   "cell_type": "code",
   "execution_count": null,
   "metadata": {},
   "outputs": [],
   "source": [
    "mean_shift_model = MeanShift()\n",
    "mean_shift_model.fit(scaled_features)\n",
    "label_mean_shift = mean_shift_model.labels_\n",
    "n_cluster_mean_shift = len(mean_shift_model.cluster_centers_)"
   ]
  },
  {
   "cell_type": "code",
   "execution_count": null,
   "metadata": {},
   "outputs": [],
   "source": [
    "dendrogram = sch.dendrogram(sch.linkage(scaled_features, method='ward'))\n",
    "agglomerative_model = AgglomerativeClustering(n_clusters=7, affinity='euclidean', linkage='ward')\n",
    "agglomerative_model.fit(scaled_features)\n",
    "label_agglomerative = agglomerative_model.labels_"
   ]
  },
  {
   "cell_type": "code",
   "execution_count": null,
   "metadata": {},
   "outputs": [],
   "source": [
    "ARI_mean=metrics.adjusted_rand_score(label, label_mean_shift)\n",
    "ARI_agg=metrics.adjusted_rand_score(label, label_agglomerative)\n",
    "AMI_mean=metrics.adjusted_mutual_info_score(label, label_mean_shift)\n",
    "AMI_agg=metrics.adjusted_mutual_info_score(label, label_agglomerative)\n",
    "V_mean=metrics.v_measure_score(label, label_mean_shift, beta=1)\n",
    "V_agg=metrics.v_measure_score(label, label_agglomerative, beta=1)\n",
    "FM_mean=metrics.fowlkes_mallows_score(label, label_mean_shift)\n",
    "FM_agg=metrics.fowlkes_mallows_score(label, label_agglomerative)"
   ]
  },
  {
   "cell_type": "code",
   "execution_count": null,
   "metadata": {},
   "outputs": [],
   "source": [
    "Sil_mean=metrics.silhouette_score(scaled_features, label_mean_shift)\n",
    "Sil_agg=metrics.silhouette_score(scaled_features, label_agglomerative)\n",
    "CH_mean=metrics.calinski_harabasz_score(scaled_features, label_mean_shift)\n",
    "CH_agg=metrics.calinski_harabasz_score(scaled_features, label_agglomerative)\n",
    "DB_mean=metrics.davies_bouldin_score(scaled_features, label_mean_shift)\n",
    "DB_agg=metrics.davies_bouldin_score(scaled_features, label_agglomerative)"
   ]
  },
  {
   "cell_type": "code",
   "execution_count": null,
   "metadata": {},
   "outputs": [],
   "source": []
  }
 ],
 "metadata": {
  "kernelspec": {
   "display_name": "Python 3",
   "language": "python",
   "name": "python3"
  },
  "language_info": {
   "codemirror_mode": {
    "name": "ipython",
    "version": 3
   },
   "file_extension": ".py",
   "mimetype": "text/x-python",
   "name": "python",
   "nbconvert_exporter": "python",
   "pygments_lexer": "ipython3",
   "version": "3.7.6"
  }
 },
 "nbformat": 4,
 "nbformat_minor": 4
}
