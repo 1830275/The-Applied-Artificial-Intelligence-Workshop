{
 "cells": [
  {
   "cell_type": "code",
   "execution_count": 1,
   "metadata": {},
   "outputs": [],
   "source": [
    "import pandas as pd\n",
    "file_url = 'https://raw.githubusercontent.com/PacktWorkshops/The-Applied-Artificial-Intelligence-Workshop/master/Datasets/Sales_Transactions_Dataset_Weekly.csv'\n",
    "df = pd.read_csv(file_url)\n",
    "df2 = df.drop(df.iloc[:, 0:55], inplace = False, axis = 1)\n",
    "from sklearn.cluster import KMeans\n",
    "k_means_model = KMeans(n_clusters=8, random_state=8)\n",
    "k_means_model.fit(df2)\n",
    "labels = k_means_model.labels_\n",
    "df.drop(df.iloc[:, 53:], inplace = True, axis = 1)\n",
    "df.drop('Product_Code', inplace = True, axis = 1)\n",
    "df['label'] = labels\n",
    "df_agg = df.groupby('label').sum()\n",
    "df_final = df[['label','W0']].groupby('label').count()\n",
    "df_final=df_final.rename(columns = {'W0':'count_product'})\n",
    "df_final['total_sales'] = df_agg.sum(axis = 1)\n",
    "df_final['yearly_average_sales']= df_final['total_sales'] / df_final['count_product']\n",
    "df_final.sort_values(by='yearly_average_sales', ascending=False, inplace = True)"
   ]
  },
  {
   "cell_type": "code",
   "execution_count": null,
   "metadata": {},
   "outputs": [],
   "source": []
  }
 ],
 "metadata": {
  "kernelspec": {
   "display_name": "Python 3",
   "language": "python",
   "name": "python3"
  },
  "language_info": {
   "codemirror_mode": {
    "name": "ipython",
    "version": 3
   },
   "file_extension": ".py",
   "mimetype": "text/x-python",
   "name": "python",
   "nbconvert_exporter": "python",
   "pygments_lexer": "ipython3",
   "version": "3.7.6"
  }
 },
 "nbformat": 4,
 "nbformat_minor": 4
}
