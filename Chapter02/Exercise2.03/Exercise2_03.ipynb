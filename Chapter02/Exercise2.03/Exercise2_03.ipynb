{
 "cells": [
  {
   "cell_type": "code",
   "execution_count": null,
   "metadata": {},
   "outputs": [],
   "source": [
    "import quandl\n",
    "import numpy as np\n",
    "from sklearn import preprocessing\n",
    "from sklearn import model_selection\n",
    "data_frame = quandl.get(\"YALE/SPCOMP\", start_date=\"1950-01-01\", end_date=\"2019-12-31\")\n",
    "data_frame.head()"
   ]
  },
  {
   "cell_type": "code",
   "execution_count": null,
   "metadata": {},
   "outputs": [],
   "source": [
    "data_frame = data_frame[['Long Interest Rate', 'Real Price', 'Real Dividend']]\n",
    "data_frame.fillna(method='ffill', inplace=True)\n",
    "data_frame['Real Price Label'] = data_frame['Real Price'].shift(-3)\n",
    "features = np.array(data_frame.drop('Real Price Label', 1))\n",
    "scaled_features = preprocessing.scale(features)\n",
    "scaled_features_latest_3 = scaled_features[-3:]\n",
    "scaled_features = scaled_features[:-3]\n",
    "data_frame.dropna(inplace=True)\n",
    "label = np.array(data_frame['Real Price Label'])\n",
    "(features_train, features_test, label_train, label_test) = model_selection.train_test_split(scaled_features, label, test_size=0.1, random_state=8)"
   ]
  }
 ],
 "metadata": {
  "kernelspec": {
   "display_name": "Python 3",
   "language": "python",
   "name": "python3"
  },
  "language_info": {
   "codemirror_mode": {
    "name": "ipython",
    "version": 3
   },
   "file_extension": ".py",
   "mimetype": "text/x-python",
   "name": "python",
   "nbconvert_exporter": "python",
   "pygments_lexer": "ipython3",
   "version": "3.7.6"
  }
 },
 "nbformat": 4,
 "nbformat_minor": 4
}
