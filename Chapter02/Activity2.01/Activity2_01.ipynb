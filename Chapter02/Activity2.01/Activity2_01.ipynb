{
 "cells": [
  {
   "cell_type": "code",
   "execution_count": 1,
   "metadata": {},
   "outputs": [],
   "source": [
    "import numpy as np\n",
    "import pandas as pd\n",
    "from sklearn import preprocessing\n",
    "from sklearn import model_selection\n",
    "from sklearn import linear_model\n",
    "from sklearn.preprocessing import PolynomialFeatures\n",
    "file_url = 'https://raw.githubusercontent.com/PacktWorkshops/The-Applied-Artificial-Intelligence-Workshop/master/Datasets/boston_house_price.csv'\n",
    "df = pd.read_csv(file_url)\n",
    "\n",
    "features = np.array(df.drop('MEDV', 1))\n",
    "label = np.array(df['MEDV'])\n",
    "scaled_features = preprocessing.scale(features)\n",
    "\n",
    "poly_1_scaled_features = PolynomialFeatures(degree=1).fit_transform(scaled_features)\n",
    "poly_2_scaled_features = PolynomialFeatures(degree=2).fit_transform(scaled_features)\n",
    "poly_3_scaled_features = PolynomialFeatures(degree=3).fit_transform(scaled_features)\n",
    "\n",
    "poly_1_features_train, poly_1_features_test, poly_label_train, poly_label_test = model_selection.train_test_split(poly_1_scaled_features, label, test_size=0.1, random_state=8)\n",
    "poly_2_features_train, poly_2_features_test, poly_label_train, poly_label_test = model_selection.train_test_split(poly_2_scaled_features, label, test_size=0.1, random_state=8)\n",
    "poly_3_features_train, poly_3_features_test, poly_label_train, poly_label_test = model_selection.train_test_split(poly_3_scaled_features, label, test_size=0.1, random_state=8)\n",
    "\n",
    "model_1 = linear_model.LinearRegression()\n",
    "model_1.fit(poly_1_features_train, poly_label_train)\n",
    "model_1_score_train = model_1.score(poly_1_features_train, poly_label_train)\n",
    "model_1_score_test = model_1.score(poly_1_features_test, poly_label_test)\n",
    "\n",
    "model_2 = linear_model.LinearRegression()\n",
    "model_2.fit(poly_2_features_train, poly_label_train)\n",
    "model_2_score_train = model_2.score(poly_2_features_train, poly_label_train)\n",
    "model_2_score_test = model_2.score(poly_2_features_test, poly_label_test)\n",
    "\n",
    "model_3 = linear_model.LinearRegression()\n",
    "model_3.fit(poly_3_features_train, poly_label_train)\n",
    "model_3_score_train = model_3.score(poly_3_features_train, poly_label_train)\n",
    "model_3_score_test = model_3.score(poly_3_features_test, poly_label_test)\n",
    "\n",
    "model_1_prediction = model_1.predict(poly_1_features_test)\n",
    "model_2_prediction = model_2.predict(poly_2_features_test)\n",
    "model_3_prediction = model_3.predict(poly_3_features_test)\n",
    "\n",
    "df_prediction = pd.DataFrame(poly_label_test)\n",
    "df_prediction.rename(columns = {0:'label'}, inplace = True)\n",
    "df_prediction['model_1_prediction'] = pd.DataFrame(model_1_prediction)\n",
    "df_prediction['model_2_prediction'] = pd.DataFrame(model_2_prediction)\n",
    "df_prediction['model_3_prediction'] = pd.DataFrame(model_3_prediction)"
   ]
  }
 ],
 "metadata": {
  "kernelspec": {
   "display_name": "Python 3",
   "language": "python",
   "name": "python3"
  },
  "language_info": {
   "codemirror_mode": {
    "name": "ipython",
    "version": 3
   },
   "file_extension": ".py",
   "mimetype": "text/x-python",
   "name": "python",
   "nbconvert_exporter": "python",
   "pygments_lexer": "ipython3",
   "version": "3.7.6"
  }
 },
 "nbformat": 4,
 "nbformat_minor": 4
}
