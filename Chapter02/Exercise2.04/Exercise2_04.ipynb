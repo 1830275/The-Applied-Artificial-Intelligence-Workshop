{
 "cells": [
  {
   "cell_type": "code",
   "execution_count": null,
   "metadata": {},
   "outputs": [],
   "source": [
    "import numpy as np\n",
    "from matplotlib import pyplot as plot\n",
    "x1 = np.array(range(1, 14))\n",
    "y1 = np.array([2, 8, 8, 18, 25, 21, 32, 44, 32, 48, 61, 45, 62])\n",
    "x2 = np.array(range(1, 14))\n",
    "y2 = np.array([0, 1, 1, 2, 3, 5, 8, 13, 21, 34, 55, 89, 144])\n",
    "f1 = np.poly1d(np.polyfit(x1, y1, 1))\n",
    "f2 = np.poly1d(np.polyfit(x1, y1, 2))\n",
    "f3 = np.poly1d(np.polyfit(x1, y1, 3))"
   ]
  },
  {
   "cell_type": "code",
   "execution_count": null,
   "metadata": {
    "scrolled": true
   },
   "outputs": [],
   "source": [
    "import matplotlib.pyplot as plot\n",
    "plot.plot(\n",
    "    x1, y1, 'ko', # black dots\n",
    "    x1, f1(x1),'k-',  # straight line\n",
    "    x1, f2(x1),'k--',  # black dashed line\n",
    "    x1, f3(x1),'k-.' # dot line\n",
    ")\n",
    "plot.show()"
   ]
  },
  {
   "cell_type": "code",
   "execution_count": null,
   "metadata": {},
   "outputs": [],
   "source": [
    "g1 = np.poly1d(np.polyfit(x2, y2, 1))\n",
    "g2 = np.poly1d(np.polyfit(x2, y2, 2))\n",
    "g3 = np.poly1d(np.polyfit(x2, y2, 3))"
   ]
  },
  {
   "cell_type": "code",
   "execution_count": null,
   "metadata": {},
   "outputs": [],
   "source": [
    "plot.plot(\n",
    "    x2, y2, 'ko', # black dots\n",
    "    x2, g1(x2),'k-',  # straight line\n",
    "    x2, g2(x2),'k--',  # black dashed line\n",
    "    x2, g3(x2),'k-.' # dot line\n",
    ")\n",
    "plot.show()"
   ]
  }
 ],
 "metadata": {
  "kernelspec": {
   "display_name": "Python 3",
   "language": "python",
   "name": "python3"
  },
  "language_info": {
   "codemirror_mode": {
    "name": "ipython",
    "version": 3
   },
   "file_extension": ".py",
   "mimetype": "text/x-python",
   "name": "python",
   "nbconvert_exporter": "python",
   "pygments_lexer": "ipython3",
   "version": "3.7.6"
  }
 },
 "nbformat": 4,
 "nbformat_minor": 4
}
